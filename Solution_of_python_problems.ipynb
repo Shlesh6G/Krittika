{
 "cells": [
  {
   "cell_type": "markdown",
   "id": "d5c6e7d4",
   "metadata": {},
   "source": [
    "# Krittika Convener Selection\n",
    "## Python Assignment\n",
    "\n",
    "1. You may find the KSP tutorials useful: https://github.com/krittikaiitb/tutorials - Tutorials 1,2,3, and 4 are particularly relevant. These cover basic python, numpy, functions in python and matplotlib respectively.\n",
    "\n",
    "2. A helpful reminder that executing a cell with help (for example: help(np.loadtxt) or np.loadtxt?) will show the documentation for that function.\n",
    "\n",
    "3. The use of internet is completely ALLOWED for solving this assignment.\n",
    "\n",
    "4. Feel free to use multiple cells for your solutions, this would make your code easier to understand in a step-by-step fashion. But keep them separate for each question (don't use a cell to solve Q1 after Q2).\n",
    "\n",
    "5. Try to keep your code neat and make use of comments and/or markdown cells to explain what you have done."
   ]
  },
  {
   "cell_type": "code",
   "execution_count": null,
   "id": "ee984c1c",
   "metadata": {},
   "outputs": [],
   "source": [
    "\n"
   ]
  },
  {
   "cell_type": "markdown",
   "id": "f5528a29",
   "metadata": {},
   "source": [
    "### Q1: Parsing Form Responses\n",
    "Suppose that you are a convener and it has been a few months into your tenure. We have organized an event focused at the newly joining freshers(your juniors).\n",
    "\n",
    "We floated a Google form to collect their details and get them registered. We planned to contact them all via WebMail to send them details of the event.\n",
    "\n",
    "While going through the responses, you discover that your co-convener forgot to filter inputs in the form! There appear to be many invalid roll numbers - we cannot contact these students via WebMail. Here are the first few entries:\n",
    "\n",
    "| Sr. No. | Name | Roll Number | Contact Number |\n",
    "|---------|------|-------------|----------------|\n",
    "| 1       | MV   | 220070044   | 986937546      |\n",
    "| 2       | DV   | 22b280013   | 961101307      |\n",
    "| 3       | RR   | 21070042    | 908204532      |\n",
    "| 4       | YB   | 220030019   | 947226579      |\n",
    "\n",
    "As you can see, we can already see an erroneous LDAP in the $3$rd input.\n",
    "\n",
    "Your task here is to find out the submissions with wrong roll numbers and filter them out. We would reach out to such people using their contact numbers. Your final output should be the names and contact numbers of these people.\n",
    "\n",
    "*PS : As you might suspect, this data is sourced from an actual event from our tenure. It has been anonymized and the errors have been exaggerated :)*"
   ]
  },
  {
   "cell_type": "code",
   "execution_count": 1,
   "id": "00a71113",
   "metadata": {},
   "outputs": [],
   "source": [
    "file1 = 'Dataset_Q1.csv' #this is the CSV file that countains all the responses"
   ]
  },
  {
   "cell_type": "markdown",
   "id": "8919e459",
   "metadata": {},
   "source": [
    "Feel free to use any libraries/standard functions that you might need to solve this problem."
   ]
  },
  {
   "cell_type": "code",
   "execution_count": 2,
   "id": "ea8f7e8b",
   "metadata": {},
   "outputs": [
    {
     "name": "stdout",
     "output_type": "stream",
     "text": [
      "Name     Contact No.\n",
      "----------------------\n",
      "RR        908204532\n",
      "BP        980849718\n",
      "HN        996237090\n",
      "SP        936914944\n",
      "JS        979691534\n",
      "TY        975486837\n",
      "PM        996497703\n",
      "DJ        927000264\n",
      "VN        918746674\n",
      "SN        902766352\n",
      "AR        992993873\n",
      "AK        940028846\n",
      "AD        913983110\n",
      "SS        914286714\n",
      "DS        914030157\n",
      "AB        934220771\n",
      "SJ        951759618\n",
      "MM        918359105\n"
     ]
    }
   ],
   "source": [
    "import numpy as np\n",
    "import matplotlib.pyplot as plt\n",
    "  \n",
    "with open('Dataset_Q1.csv', 'r') as f:\n",
    "    lines = f.read().split('\\n')\n",
    "    del lines[0]\n",
    "    data=[]   \n",
    "for a in lines:\n",
    "    data.append(a.split(','))\n",
    "del data[len(data)-1]\n",
    "\n",
    "roll=[]\n",
    "for i in range(len(data)): \n",
    "    roll.append(data[i][2])\n",
    "roll_nospace= [s.replace(\" \", \"\") for s in roll]\n",
    "\n",
    "error_sr=[]\n",
    "for i in range(len(roll_nospace)):\n",
    "    if len(roll_nospace[i])!=9:\n",
    "        error_sr.append('{}'.format(i+1))\n",
    "        \n",
    "for i in range(len(roll_nospace)):\n",
    "    if roll_nospace[i][2]=='0':\n",
    "        pass\n",
    "    elif roll_nospace[i][2]=='d':\n",
    "        pass\n",
    "    elif roll_nospace[i][2]=='D':\n",
    "        pass\n",
    "    elif roll_nospace[i][2]=='b':\n",
    "        pass\n",
    "    elif roll_nospace[i][2]=='B':\n",
    "        pass\n",
    "    else:\n",
    "        error_sr.append('{}'.format(i+1))\n",
    "for i in range(len(roll_nospace)):\n",
    "    if roll_nospace[i][0]=='2':\n",
    "        if roll_nospace[i][1]=='2' or roll_nospace[i][1]=='1' or roll_nospace[i][1]=='0':\n",
    "            pass\n",
    "        else:\n",
    "            error_sr.append('{}'.format(i+1))    \n",
    "    else:\n",
    "        error_sr.append('{}'.format(i+1))\n",
    "\n",
    "error_srf = []\n",
    "for i in error_sr:\n",
    "    if i not in error_srf:\n",
    "       error_srf.append(i)\n",
    "    \n",
    "print(\"{:<9}{:<8}\".format(\"Name\", \"Contact No.\"))\n",
    "print(\"-\"*22)\n",
    "for i in data:\n",
    "    if i[0] in error_srf:\n",
    "         print(f\"{i[1]:<10}{i[3]:<8}\")"
   ]
  },
  {
   "cell_type": "markdown",
   "id": "801e187a",
   "metadata": {},
   "source": [
    "#### Bonus part:\n",
    "Amongst the valid entries, what proportion are actually freshers? Remember that we intended to target them with this event. The majority seem to be freshers but you will also find some second and third year students. You can identify each of these groups by the first two digits of their roll numbers. \n",
    "\n",
    "Your task is to graphically depict the number of applicants across the three batches."
   ]
  },
  {
   "cell_type": "code",
   "execution_count": 3,
   "id": "e4ea5290",
   "metadata": {},
   "outputs": [
    {
     "data": {
      "image/png": "[encoded data removed]",
      "text/plain": [
       "<Figure size 432x288 with 1 Axes>"
      ]
     },
     "metadata": {
      "needs_background": "light"
     },
     "output_type": "display_data"
    }
   ],
   "source": [
    "set_sr=[]\n",
    "for i in range(len(roll_nospace)):\n",
    "    set_sr.append('{}'.format(i+1))\n",
    "valid=[x for x in set_sr if x not in error_srf]\n",
    "valid\n",
    "\n",
    "f=0\n",
    "s=0\n",
    "t=0\n",
    "for i in valid:\n",
    "    if roll_nospace[int(i)-1][1]=='2':\n",
    "        f+=1\n",
    "    if roll_nospace[int(i)-1][1]=='1':\n",
    "        s+=1\n",
    "    if roll_nospace[int(i)-1][1]=='0':\n",
    "        t+=1\n",
    "\n",
    "# x-coordinates of left sides of bars \n",
    "left = [1, 2, 3]\n",
    "  \n",
    "# heights of bars\n",
    "height = [f, s, t]\n",
    "  \n",
    "# labels for bars\n",
    "tick_label = ['Freshies({})'.format(f), 'Sophies({})'.format(s), 'Thirdies({})'.format(f)]\n",
    "  \n",
    "plt.bar(left, height, tick_label = tick_label,\n",
    "        width = 0.6, color = ['red', 'green','blue'])\n",
    " \n",
    "plt.ylabel('No. of Entries')\n",
    "plt.title('Participants')\n",
    "plt.show()\n"
   ]
  },
  {
   "cell_type": "markdown",
   "id": "9d1911c6",
   "metadata": {},
   "source": [
    "### Q2: A New Discovery\n",
    "During one of our regular stargazing sessions, you and your co-conveners discover a new blip of light that shouldn't be there. After examining it a bit, you realise that this object is not quite like anything the world has seen before. You share your data with club seniors and make a startling find - its the first of its kind of a completely new class of objects. An ex-secy of the club, Siddhant Tripathy, analyses it extensively and declares that its actually the first ever **endoplanet** to be found. You and your team are now international celebrities, but its time to organise an event so that people from insti can see this.\n",
    "\n",
    "Your task is to find out when exactly Tripps' endoplanet would be at its brightest and organise a stargazing session on that date so that everyone can see it for themselves. You have data from a month of observations of this object and you need to extrapolate it to find the peak."
   ]
  },
  {
   "cell_type": "code",
   "execution_count": 4,
   "id": "9e7d5141",
   "metadata": {},
   "outputs": [],
   "source": [
    "file2 = 'Dataset_Q2.csv'"
   ]
  },
  {
   "cell_type": "markdown",
   "id": "99dc43d3",
   "metadata": {},
   "source": [
    "According to your analysis, this object is in a special orbit that gives it a roughly Gaussian light curve i.e. the plot of [magnitude](https://en.wikipedia.org/wiki/Apparent_magnitude) v/s time roughly follows an inverted Gaussian function. Recall that a generic Gaussian function with unit amplitude is given by\n",
    "\n",
    "$$f(x) = \\frac{1}{\\sigma\\sqrt{2\\pi}}\\exp\\left({-\\frac{1}{2}{\\left(\\frac{x-\\mu}{\\sigma}\\right)}^2}\\right)$$ \n",
    "\n",
    "where $\\mu$ is the mean of the distribution it describes and $\\sigma$ is the standard deviation. More about it [here](https://archive.lib.msu.edu/crcmath/math/math/g/g087.htm).\n",
    "\n",
    "Your task is to find the date at which the endoplanet will be at it's brightest, along with how bright its expected to be. Also plot the original data along with the fitted curve.\n",
    "\n",
    "You can do this by fitting a gaussian to the light curve data and locating its extremum. You may find `scipy.optimize.curve_fit` useful. \n",
    "\n",
    "**Important** : Our fit function must be a Gaussian with a vertical offset. The problem is that `curve_fit` tends to misbehave in this particular example when you ask it to guess that offset, so assume it to be $9.0$ to solve this problem. This, of course, implies that the baseline magnitude of the object is $9.0$"
   ]
  },
  {
   "cell_type": "code",
   "execution_count": 5,
   "id": "cf3750af",
   "metadata": {},
   "outputs": [
    {
     "name": "stdout",
     "output_type": "stream",
     "text": [
      "    Night No.    Date  Magnitude\n",
      "0           1  12-May       8.86\n",
      "1           2  13-May       8.85\n",
      "2           3  14-May       8.89\n",
      "3           4  15-May       8.87\n",
      "4           5  16-May       9.02\n",
      "5           6  17-May       8.92\n",
      "6           7  18-May       8.89\n",
      "7           8  19-May       8.95\n",
      "8           9  20-May       8.82\n",
      "9          10  21-May       8.72\n",
      "10         11  22-May       8.87\n",
      "11         12  23-May       8.74\n",
      "12         13  24-May       8.55\n",
      "13         14  25-May       8.61\n",
      "14         15  26-May       8.48\n",
      "15         16  27-May       8.32\n",
      "16         17  28-May       8.35\n",
      "17         18  29-May       8.14\n",
      "18         19  30-May       8.20\n",
      "19         20  31-May       8.09\n",
      "20         21  01-Jun       7.96\n",
      "21         22  02-Jun       7.63\n",
      "22         23  03-Jun       7.58\n",
      "23         24  04-Jun       7.57\n",
      "24         25  05-Jun       7.30\n",
      "25         26  06-Jun       7.00\n",
      "26         27  07-Jun       7.02\n",
      "27         28  08-Jun       6.70\n",
      "28         29  09-Jun       6.66\n",
      "29         30  10-Jun       6.22\n"
     ]
    },
    {
     "data": {
      "image/png": "[encoded data removed]",
      "text/plain": [
       "<Figure size 432x288 with 1 Axes>"
      ]
     },
     "metadata": {
      "needs_background": "light"
     },
     "output_type": "display_data"
    },
    {
     "name": "stdout",
     "output_type": "stream",
     "text": [
      "[47.61056202 14.94333188 -5.36592618]\n",
      "[[ 38.60656285  11.61931163 -11.02833368]\n",
      " [ 11.61931163   3.55162748  -3.27694264]\n",
      " [-11.02833368  -3.27694264   3.1883169 ]]\n",
      "The mean is : 47.61056202169032\n",
      "The date is : 28-06-2022 (Approximately)\n",
      "The brightest value is :  3.6340738247115176\n",
      "The value on 28-06-2022 is : 3.6358957169226755\n"
     ]
    }
   ],
   "source": [
    "import numpy as np, pandas as pd, scipy, matplotlib.pyplot as plt, datetime\n",
    "\n",
    "from scipy.optimize import curve_fit\n",
    "\n",
    "df = pd.read_csv(\"Dataset_Q2.csv\")\n",
    "\n",
    "print(df.to_string())\n",
    "\n",
    "def gaussian(x,m,s,A):\n",
    "    return A * np.exp((-1*(x-m)**2) / (2*s*s)) + 9\n",
    "\n",
    "xdata = df[\"Night No.\"]\n",
    "ydata = df.Magnitude\n",
    "\n",
    "popt, pcov = curve_fit(gaussian, xdata, ydata)\n",
    "plt.plot(xdata, gaussian(xdata, *popt), 'r-',\n",
    "         label='fit: m=%5.3f, s=%5.3f, A=%5.3f' % tuple(popt))\n",
    "plt.plot(xdata, ydata, 'b-', label='data')\n",
    "plt.xlabel('x')\n",
    "plt.ylabel('y')\n",
    "plt.legend()\n",
    "plt.show()\n",
    "\n",
    "print(popt)\n",
    "print(pcov)\n",
    "\n",
    "date_st = datetime.date(2022,5,11)\n",
    "date_actual = date_st + datetime.timedelta(days=np.ceil(popt[0]))\n",
    "print(\"The mean is :\",popt[0])\n",
    "print(\"The date is :\",date_actual.strftime(\"%d-%m-%Y\"), \"(Approximately)\")\n",
    "print(\"The brightest value is : \",9 + popt[2])\n",
    "print(\"The value on\",date_actual.strftime(\"%d-%m-%Y\"),\"is :\",gaussian(np.ceil(popt[0]),popt[0],popt[1],popt[2]))\n"
   ]
  },
  {
   "cell_type": "markdown",
   "id": "13da0dc1",
   "metadata": {},
   "source": [
    "#### Bonus part:\n",
    "\n",
    "Can this date be trusted? We wouldn't want to claim the endoplanet is the brightest on a particular day and then have it brighten up even more later. Try to ascertain the error in this predicted date. Read the documentation of `curve_fit` and try to understand the statistical significance of the quantities it returns."
   ]
  },
  {
   "cell_type": "code",
   "execution_count": 6,
   "id": "08d245f9",
   "metadata": {},
   "outputs": [
    {
     "name": "stdout",
     "output_type": "stream",
     "text": [
      "The error in the date is :  6.213417968358614\n",
      "To find the star at it's brightest, the dates to be checked are from 2022-06-21 to 2022-07-04\n"
     ]
    }
   ],
   "source": [
    "perr = np.sqrt(np.diag(pcov))\n",
    "print(\"The error in the date is : \",perr[0]) #The covariance matrix contains the variance errors of all the parameters and the covariance of one wrt another\n",
    "date_start = date_st + datetime.timedelta(days=np.floor(popt[0] - perr[0]))\n",
    "date_end = date_st + datetime.timedelta(days=np.ceil(popt[0] + perr[0]))\n",
    "print(\"To find the star at it's brightest, the dates to be checked are from\",date_start,\"to\",date_end)\n"
   ]
  }
 ],
 "metadata": {
  "kernelspec": {
   "display_name": "Python 3 (ipykernel)",
   "language": "python",
   "name": "python3"
  },
  "language_info": {
   "codemirror_mode": {
    "name": "ipython",
    "version": 3
   },
   "file_extension": ".py",
   "mimetype": "text/x-python",
   "name": "python",
   "nbconvert_exporter": "python",
   "pygments_lexer": "ipython3",
   "version": "3.9.7"
  }
 },
 "nbformat": 4,
 "nbformat_minor": 5
}
